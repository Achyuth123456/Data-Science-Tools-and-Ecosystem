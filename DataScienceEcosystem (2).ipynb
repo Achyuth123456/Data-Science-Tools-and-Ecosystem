{
 "cells": [
  {
   "cell_type": "markdown",
   "id": "1296acd7-3350-4d48-ba80-7ed9367523ad",
   "metadata": {},
   "source": [
    "# Data Science Tools and Ecosystem"
   ]
  },
  {
   "cell_type": "markdown",
   "id": "cbfa146e-c329-4b48-b8a4-dab8c0788f25",
   "metadata": {},
   "source": [
    "## In this notebook, Data Science Tools and Ecosystem are summarized"
   ]
  },
  {
   "cell_type": "markdown",
   "id": "3529a8f3-ebb5-4c12-8daa-787d648e307e",
   "metadata": {},
   "source": [
    "### Some of the popular languages that Data Scientists use are\n",
    "\n",
    "**ordered list:**\n",
    "- Python\n",
    "- R\n",
    "- Java\n",
    "- Scala\n",
    "- C++"
   ]
  },
  {
   "cell_type": "markdown",
   "id": "e13a142c-0dbe-4760-9334-803e84d7efff",
   "metadata": {},
   "source": [
    "### Some of the commonly used libraries used by Data Scientists include:\n",
    "**ordered list:**\n",
    "- Numpy\n",
    "- Pandas\n",
    "- Matplotlib\n",
    "- Seaborn\n",
    "- Scikit learn\n",
    "- Scipy\n",
    "- Tensorflow\n"
   ]
  },
  {
   "cell_type": "markdown",
   "id": "95b59a0b-4d47-4102-8e0e-a0e34a16036e",
   "metadata": {},
   "source": [
    "|Data Science Tools|\n",
    "|:-:|\n",
    "|Apache Spark|\n",
    "|Tensorflow|\n",
    "|Tableau|\n",
    "|Excel|\n",
    "|SQL|"
   ]
  },
  {
   "cell_type": "markdown",
   "id": "38ae3a8e-95f4-4c11-8d96-416c1b87ad1d",
   "metadata": {},
   "source": [
    "### Below are a few examples of evaluating arithmetic expressions in Python.\n",
    "#### Example:\n",
    "- 30/6\n",
    "- 50*3\n",
    "- 5-3\n"
   ]
  },
  {
   "cell_type": "markdown",
   "id": "6da7c7b6-9007-4ca3-a802-5af2ff79e445",
   "metadata": {},
   "source": [
    "#### This a simple arithmetic expression to mutiply then add integers"
   ]
  },
  {
   "cell_type": "code",
   "execution_count": 2,
   "id": "c5d87487-e07c-4ff6-a8e6-147021c6f31b",
   "metadata": {},
   "outputs": [
    {
     "data": {
      "text/plain": [
       "17"
      ]
     },
     "execution_count": 2,
     "metadata": {},
     "output_type": "execute_result"
    }
   ],
   "source": [
    "(3*4)+5"
   ]
  },
  {
   "cell_type": "code",
   "execution_count": null,
   "id": "238acaea-4201-40b8-be05-cb871354c507",
   "metadata": {},
   "outputs": [],
   "source": [
    "200 minutes into hours"
   ]
  },
  {
   "cell_type": "markdown",
   "id": "c2f15e0f-3a61-4fd4-bc49-781c0ef2bd66",
   "metadata": {},
   "source": [
    "#### This will convert 200 minutes to hours by diving by 60"
   ]
  },
  {
   "cell_type": "code",
   "execution_count": 3,
   "id": "0e050b50-76f8-4a54-91ad-011148f066d1",
   "metadata": {},
   "outputs": [
    {
     "name": "stdout",
     "output_type": "stream",
     "text": [
      "200 minutes is equal to 3.3333333333333335 hours\n"
     ]
    }
   ],
   "source": [
    "minutes = 200\n",
    "hours = minutes/60\n",
    "print(\"200 minutes is equal to\", hours, \"hours\")"
   ]
  },
  {
   "cell_type": "markdown",
   "id": "d82e2831-2037-4419-a545-d0ae92c05001",
   "metadata": {},
   "source": [
    "### **Objectives:**\n",
    "#### The main objective of data science is to dicover patters in data.\n",
    "**List popular languages for Data Science.:**\n",
    "- Python\n",
    "- SQL\n",
    "- Scala\n",
    "- Java\n",
    "- Julia\n",
    "- C++"
   ]
  },
  {
   "cell_type": "markdown",
   "id": "b4c37020-34d2-4064-92df-84263a618c70",
   "metadata": {},
   "source": [
    "## Author:\n",
    "### M Achyuth Kumar"
   ]
  },
  {
   "cell_type": "code",
   "execution_count": null,
   "id": "de74cf82-e0cc-4ef1-af18-580769b3b019",
   "metadata": {},
   "outputs": [],
   "source": []
  }
 ],
 "metadata": {
  "kernelspec": {
   "display_name": "anaconda-2022.05-py39",
   "language": "python",
   "name": "conda-env-anaconda-2022.05-py39-py"
  },
  "language_info": {
   "codemirror_mode": {
    "name": "ipython",
    "version": 3
   },
   "file_extension": ".py",
   "mimetype": "text/x-python",
   "name": "python",
   "nbconvert_exporter": "python",
   "pygments_lexer": "ipython3",
   "version": "3.9.12"
  }
 },
 "nbformat": 4,
 "nbformat_minor": 5
}
